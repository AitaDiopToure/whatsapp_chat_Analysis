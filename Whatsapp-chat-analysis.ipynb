{
 "cells": [
  {
   "cell_type": "code",
   "execution_count": 1,
   "id": "687896fc",
   "metadata": {},
   "outputs": [],
   "source": [
    "import re\n",
    "import pandas as pd"
   ]
  },
  {
   "cell_type": "code",
   "execution_count": 31,
   "id": "a1448792",
   "metadata": {},
   "outputs": [],
   "source": [
    "f = open('Discussion WhatsApp avec Thiara.txt','r',encoding='utf-8')"
   ]
  },
  {
   "cell_type": "code",
   "execution_count": 32,
   "id": "0edcf7a6",
   "metadata": {},
   "outputs": [],
   "source": [
    "data = f.read()"
   ]
  },
  {
   "cell_type": "code",
   "execution_count": 33,
   "id": "0d1fd5dc",
   "metadata": {},
   "outputs": [
    {
     "name": "stdout",
     "output_type": "stream",
     "text": [
      "20/11/2022, 15:08 - Les messages et les appels sont chiffrés de bout en bout. Aucun tiers, pas même WhatsApp, ne peut les lire ou les écouter. Appuyez pour en savoir plus.\n",
      "05/07/2023, 17:35 - Les messages et les appels sont chiffrés de bout en bout. Aucun tiers, pas même WhatsApp, ne peut les lire ou les écouter. Appuyez pour en savoir plus.\n",
      "05/07/2023, 17:35 - Thiara: Bonjour\n",
      "05/07/2023, 17:35 - Ndeya Chou ❤🦋💍: Oui bonjour\n",
      "05/07/2023, 17:36 - Thiara: Nakamou lépou diamou\n",
      "05/07/2023, 17:36 - Ndeya Chou ❤🦋💍: Cool niiii\n",
      "05/07/2023, 17:36 - Thiara: Et la journée\n",
      "05/07/2023, 17:36 - Ndeya Chou ❤🦋💍: Cva cool\n",
      "05/07/2023, 17:38 - Thiara: C qui\n",
      "05/07/2023, 17:39 - Ndeya Chou ❤🦋💍: Moi c Mame Diarra et vous\n",
      "05/07/2023, 17:39 - Thiara: Moi😂 Thiara Diéye\n",
      "05/07/2023, 17:39 - Ndeya Chou ❤🦋💍: Okeyyy 😍\n",
      "\n"
     ]
    }
   ],
   "source": [
    "print (data)"
   ]
  },
  {
   "cell_type": "code",
   "execution_count": 34,
   "id": "aba0399c",
   "metadata": {},
   "outputs": [],
   "source": [
    "pattern = '\\d{1,2}/\\d{1,2}/\\d{2,4},\\s\\d{1,2}:\\d{2}\\s-\\s'"
   ]
  },
  {
   "cell_type": "code",
   "execution_count": 35,
   "id": "94793ab2",
   "metadata": {
    "scrolled": true
   },
   "outputs": [
    {
     "data": {
      "text/plain": [
       "['Les messages et les appels sont chiffrés de bout en bout. Aucun tiers, pas même WhatsApp, ne peut les lire ou les écouter. Appuyez pour en savoir plus.\\n',\n",
       " 'Les messages et les appels sont chiffrés de bout en bout. Aucun tiers, pas même WhatsApp, ne peut les lire ou les écouter. Appuyez pour en savoir plus.\\n',\n",
       " 'Thiara: Bonjour\\n',\n",
       " 'Ndeya Chou ❤🦋💍: Oui bonjour\\n',\n",
       " 'Thiara: Nakamou lépou diamou\\n',\n",
       " 'Ndeya Chou ❤🦋💍: Cool niiii\\n',\n",
       " 'Thiara: Et la journée\\n',\n",
       " 'Ndeya Chou ❤🦋💍: Cva cool\\n',\n",
       " 'Thiara: C qui\\n',\n",
       " 'Ndeya Chou ❤🦋💍: Moi c Mame Diarra et vous\\n',\n",
       " 'Thiara: Moi😂 Thiara Diéye\\n',\n",
       " 'Ndeya Chou ❤🦋💍: Okeyyy 😍\\n']"
      ]
     },
     "execution_count": 35,
     "metadata": {},
     "output_type": "execute_result"
    }
   ],
   "source": [
    "messages = re.split(pattern, data)[1:]\n",
    "messages"
   ]
  },
  {
   "cell_type": "code",
   "execution_count": 36,
   "id": "535fe6aa",
   "metadata": {},
   "outputs": [
    {
     "data": {
      "text/plain": [
       "['20/11/2022, 15:08 - ',\n",
       " '05/07/2023, 17:35 - ',\n",
       " '05/07/2023, 17:35 - ',\n",
       " '05/07/2023, 17:35 - ',\n",
       " '05/07/2023, 17:36 - ',\n",
       " '05/07/2023, 17:36 - ',\n",
       " '05/07/2023, 17:36 - ',\n",
       " '05/07/2023, 17:36 - ',\n",
       " '05/07/2023, 17:38 - ',\n",
       " '05/07/2023, 17:39 - ',\n",
       " '05/07/2023, 17:39 - ',\n",
       " '05/07/2023, 17:39 - ']"
      ]
     },
     "execution_count": 36,
     "metadata": {},
     "output_type": "execute_result"
    }
   ],
   "source": [
    "dates = re.findall(pattern, data)\n",
    "dates"
   ]
  },
  {
   "cell_type": "code",
   "execution_count": 38,
   "id": "aabf5690",
   "metadata": {},
   "outputs": [
    {
     "data": {
      "text/html": [
       "<div>\n",
       "<style scoped>\n",
       "    .dataframe tbody tr th:only-of-type {\n",
       "        vertical-align: middle;\n",
       "    }\n",
       "\n",
       "    .dataframe tbody tr th {\n",
       "        vertical-align: top;\n",
       "    }\n",
       "\n",
       "    .dataframe thead th {\n",
       "        text-align: right;\n",
       "    }\n",
       "</style>\n",
       "<table border=\"1\" class=\"dataframe\">\n",
       "  <thead>\n",
       "    <tr style=\"text-align: right;\">\n",
       "      <th></th>\n",
       "      <th>user_message</th>\n",
       "      <th>date</th>\n",
       "    </tr>\n",
       "  </thead>\n",
       "  <tbody>\n",
       "    <tr>\n",
       "      <th>0</th>\n",
       "      <td>Les messages et les appels sont chiffrés de bo...</td>\n",
       "      <td>2022-11-20 15:08:00</td>\n",
       "    </tr>\n",
       "    <tr>\n",
       "      <th>1</th>\n",
       "      <td>Les messages et les appels sont chiffrés de bo...</td>\n",
       "      <td>2023-07-05 17:35:00</td>\n",
       "    </tr>\n",
       "    <tr>\n",
       "      <th>2</th>\n",
       "      <td>Thiara: Bonjour\\n</td>\n",
       "      <td>2023-07-05 17:35:00</td>\n",
       "    </tr>\n",
       "    <tr>\n",
       "      <th>3</th>\n",
       "      <td>Ndeya Chou ❤🦋💍: Oui bonjour\\n</td>\n",
       "      <td>2023-07-05 17:35:00</td>\n",
       "    </tr>\n",
       "    <tr>\n",
       "      <th>4</th>\n",
       "      <td>Thiara: Nakamou lépou diamou\\n</td>\n",
       "      <td>2023-07-05 17:36:00</td>\n",
       "    </tr>\n",
       "  </tbody>\n",
       "</table>\n",
       "</div>"
      ],
      "text/plain": [
       "                                        user_message                date\n",
       "0  Les messages et les appels sont chiffrés de bo... 2022-11-20 15:08:00\n",
       "1  Les messages et les appels sont chiffrés de bo... 2023-07-05 17:35:00\n",
       "2                                  Thiara: Bonjour\\n 2023-07-05 17:35:00\n",
       "3                      Ndeya Chou ❤🦋💍: Oui bonjour\\n 2023-07-05 17:35:00\n",
       "4                     Thiara: Nakamou lépou diamou\\n 2023-07-05 17:36:00"
      ]
     },
     "execution_count": 38,
     "metadata": {},
     "output_type": "execute_result"
    }
   ],
   "source": [
    "df = pd.DataFrame({'user_message': messages, 'message_date': dates})\n",
    "# convert message_date type\n",
    "df['message_date'] = pd.to_datetime(df['message_date'], format='%d/%m/%Y, %H:%M - ')\n",
    "\n",
    "df.rename(columns={'message_date': 'date'}, inplace=True)   \n",
    "\n",
    "df.head()"
   ]
  },
  {
   "cell_type": "code",
   "execution_count": 39,
   "id": "439c1a11",
   "metadata": {},
   "outputs": [
    {
     "data": {
      "text/plain": [
       "(12, 2)"
      ]
     },
     "execution_count": 39,
     "metadata": {},
     "output_type": "execute_result"
    }
   ],
   "source": [
    "df.shape"
   ]
  },
  {
   "cell_type": "code",
   "execution_count": 40,
   "id": "0ac15f29",
   "metadata": {},
   "outputs": [
    {
     "data": {
      "text/html": [
       "<div>\n",
       "<style scoped>\n",
       "    .dataframe tbody tr th:only-of-type {\n",
       "        vertical-align: middle;\n",
       "    }\n",
       "\n",
       "    .dataframe tbody tr th {\n",
       "        vertical-align: top;\n",
       "    }\n",
       "\n",
       "    .dataframe thead th {\n",
       "        text-align: right;\n",
       "    }\n",
       "</style>\n",
       "<table border=\"1\" class=\"dataframe\">\n",
       "  <thead>\n",
       "    <tr style=\"text-align: right;\">\n",
       "      <th></th>\n",
       "      <th>date</th>\n",
       "      <th>user</th>\n",
       "      <th>message</th>\n",
       "    </tr>\n",
       "  </thead>\n",
       "  <tbody>\n",
       "    <tr>\n",
       "      <th>0</th>\n",
       "      <td>2022-11-20 15:08:00</td>\n",
       "      <td>group_notification</td>\n",
       "      <td>Les messages et les appels sont chiffrés de bo...</td>\n",
       "    </tr>\n",
       "    <tr>\n",
       "      <th>1</th>\n",
       "      <td>2023-07-05 17:35:00</td>\n",
       "      <td>group_notification</td>\n",
       "      <td>Les messages et les appels sont chiffrés de bo...</td>\n",
       "    </tr>\n",
       "    <tr>\n",
       "      <th>2</th>\n",
       "      <td>2023-07-05 17:35:00</td>\n",
       "      <td>Thiara</td>\n",
       "      <td>Bonjour\\n</td>\n",
       "    </tr>\n",
       "    <tr>\n",
       "      <th>3</th>\n",
       "      <td>2023-07-05 17:35:00</td>\n",
       "      <td>Ndeya Chou ❤🦋💍</td>\n",
       "      <td>Oui bonjour\\n</td>\n",
       "    </tr>\n",
       "    <tr>\n",
       "      <th>4</th>\n",
       "      <td>2023-07-05 17:36:00</td>\n",
       "      <td>Thiara</td>\n",
       "      <td>Nakamou lépou diamou\\n</td>\n",
       "    </tr>\n",
       "  </tbody>\n",
       "</table>\n",
       "</div>"
      ],
      "text/plain": [
       "                 date                user  \\\n",
       "0 2022-11-20 15:08:00  group_notification   \n",
       "1 2023-07-05 17:35:00  group_notification   \n",
       "2 2023-07-05 17:35:00              Thiara   \n",
       "3 2023-07-05 17:35:00      Ndeya Chou ❤🦋💍   \n",
       "4 2023-07-05 17:36:00              Thiara   \n",
       "\n",
       "                                             message  \n",
       "0  Les messages et les appels sont chiffrés de bo...  \n",
       "1  Les messages et les appels sont chiffrés de bo...  \n",
       "2                                          Bonjour\\n  \n",
       "3                                      Oui bonjour\\n  \n",
       "4                             Nakamou lépou diamou\\n  "
      ]
     },
     "execution_count": 40,
     "metadata": {},
     "output_type": "execute_result"
    }
   ],
   "source": [
    "# separate users and messages\n",
    "users = []\n",
    "messages = []\n",
    "for message in df['user_message']:\n",
    "    entry = re.split('([\\w\\W]+?):\\s', message)\n",
    "    if entry[1:]:  # user name\n",
    "        users.append(entry[1])\n",
    "        messages.append(\" \".join(entry[2:]))\n",
    "    else:\n",
    "        users.append('group_notification')\n",
    "        messages.append(entry[0])\n",
    "\n",
    "df['user'] = users\n",
    "df['message'] = messages\n",
    "df.drop(columns=['user_message'], inplace=True)\n",
    "df.head()"
   ]
  },
  {
   "cell_type": "code",
   "execution_count": 43,
   "id": "3286e24e",
   "metadata": {},
   "outputs": [],
   "source": [
    "  df['year'] = df['date'].dt.year"
   ]
  },
  {
   "cell_type": "code",
   "execution_count": 44,
   "id": "32f42a40",
   "metadata": {},
   "outputs": [
    {
     "data": {
      "text/html": [
       "<div>\n",
       "<style scoped>\n",
       "    .dataframe tbody tr th:only-of-type {\n",
       "        vertical-align: middle;\n",
       "    }\n",
       "\n",
       "    .dataframe tbody tr th {\n",
       "        vertical-align: top;\n",
       "    }\n",
       "\n",
       "    .dataframe thead th {\n",
       "        text-align: right;\n",
       "    }\n",
       "</style>\n",
       "<table border=\"1\" class=\"dataframe\">\n",
       "  <thead>\n",
       "    <tr style=\"text-align: right;\">\n",
       "      <th></th>\n",
       "      <th>date</th>\n",
       "      <th>user</th>\n",
       "      <th>message</th>\n",
       "      <th>year</th>\n",
       "    </tr>\n",
       "  </thead>\n",
       "  <tbody>\n",
       "    <tr>\n",
       "      <th>0</th>\n",
       "      <td>2022-11-20 15:08:00</td>\n",
       "      <td>group_notification</td>\n",
       "      <td>Les messages et les appels sont chiffrés de bo...</td>\n",
       "      <td>2022</td>\n",
       "    </tr>\n",
       "    <tr>\n",
       "      <th>1</th>\n",
       "      <td>2023-07-05 17:35:00</td>\n",
       "      <td>group_notification</td>\n",
       "      <td>Les messages et les appels sont chiffrés de bo...</td>\n",
       "      <td>2023</td>\n",
       "    </tr>\n",
       "    <tr>\n",
       "      <th>2</th>\n",
       "      <td>2023-07-05 17:35:00</td>\n",
       "      <td>Thiara</td>\n",
       "      <td>Bonjour\\n</td>\n",
       "      <td>2023</td>\n",
       "    </tr>\n",
       "    <tr>\n",
       "      <th>3</th>\n",
       "      <td>2023-07-05 17:35:00</td>\n",
       "      <td>Ndeya Chou ❤🦋💍</td>\n",
       "      <td>Oui bonjour\\n</td>\n",
       "      <td>2023</td>\n",
       "    </tr>\n",
       "    <tr>\n",
       "      <th>4</th>\n",
       "      <td>2023-07-05 17:36:00</td>\n",
       "      <td>Thiara</td>\n",
       "      <td>Nakamou lépou diamou\\n</td>\n",
       "      <td>2023</td>\n",
       "    </tr>\n",
       "  </tbody>\n",
       "</table>\n",
       "</div>"
      ],
      "text/plain": [
       "                 date                user  \\\n",
       "0 2022-11-20 15:08:00  group_notification   \n",
       "1 2023-07-05 17:35:00  group_notification   \n",
       "2 2023-07-05 17:35:00              Thiara   \n",
       "3 2023-07-05 17:35:00      Ndeya Chou ❤🦋💍   \n",
       "4 2023-07-05 17:36:00              Thiara   \n",
       "\n",
       "                                             message  year  \n",
       "0  Les messages et les appels sont chiffrés de bo...  2022  \n",
       "1  Les messages et les appels sont chiffrés de bo...  2023  \n",
       "2                                          Bonjour\\n  2023  \n",
       "3                                      Oui bonjour\\n  2023  \n",
       "4                             Nakamou lépou diamou\\n  2023  "
      ]
     },
     "execution_count": 44,
     "metadata": {},
     "output_type": "execute_result"
    }
   ],
   "source": [
    "df.head()"
   ]
  },
  {
   "cell_type": "code",
   "execution_count": 45,
   "id": "501294ba",
   "metadata": {},
   "outputs": [],
   "source": [
    " df['month'] = df['date'].dt.month_name()"
   ]
  },
  {
   "cell_type": "code",
   "execution_count": 47,
   "id": "b27b5e96",
   "metadata": {},
   "outputs": [],
   "source": [
    "df['day'] = df['date'].dt.day"
   ]
  },
  {
   "cell_type": "code",
   "execution_count": 48,
   "id": "a5c0954a",
   "metadata": {},
   "outputs": [],
   "source": [
    "df['hour'] = df['date'].dt.hour"
   ]
  },
  {
   "cell_type": "code",
   "execution_count": 49,
   "id": "f181d709",
   "metadata": {},
   "outputs": [],
   "source": [
    " df['minute'] = df['date'].dt.minute"
   ]
  },
  {
   "cell_type": "code",
   "execution_count": 50,
   "id": "427e3419",
   "metadata": {},
   "outputs": [
    {
     "data": {
      "text/html": [
       "<div>\n",
       "<style scoped>\n",
       "    .dataframe tbody tr th:only-of-type {\n",
       "        vertical-align: middle;\n",
       "    }\n",
       "\n",
       "    .dataframe tbody tr th {\n",
       "        vertical-align: top;\n",
       "    }\n",
       "\n",
       "    .dataframe thead th {\n",
       "        text-align: right;\n",
       "    }\n",
       "</style>\n",
       "<table border=\"1\" class=\"dataframe\">\n",
       "  <thead>\n",
       "    <tr style=\"text-align: right;\">\n",
       "      <th></th>\n",
       "      <th>date</th>\n",
       "      <th>user</th>\n",
       "      <th>message</th>\n",
       "      <th>year</th>\n",
       "      <th>month</th>\n",
       "      <th>day</th>\n",
       "      <th>hour</th>\n",
       "      <th>minute</th>\n",
       "    </tr>\n",
       "  </thead>\n",
       "  <tbody>\n",
       "    <tr>\n",
       "      <th>0</th>\n",
       "      <td>2022-11-20 15:08:00</td>\n",
       "      <td>group_notification</td>\n",
       "      <td>Les messages et les appels sont chiffrés de bo...</td>\n",
       "      <td>2022</td>\n",
       "      <td>November</td>\n",
       "      <td>20</td>\n",
       "      <td>15</td>\n",
       "      <td>8</td>\n",
       "    </tr>\n",
       "    <tr>\n",
       "      <th>1</th>\n",
       "      <td>2023-07-05 17:35:00</td>\n",
       "      <td>group_notification</td>\n",
       "      <td>Les messages et les appels sont chiffrés de bo...</td>\n",
       "      <td>2023</td>\n",
       "      <td>July</td>\n",
       "      <td>5</td>\n",
       "      <td>17</td>\n",
       "      <td>35</td>\n",
       "    </tr>\n",
       "    <tr>\n",
       "      <th>2</th>\n",
       "      <td>2023-07-05 17:35:00</td>\n",
       "      <td>Thiara</td>\n",
       "      <td>Bonjour\\n</td>\n",
       "      <td>2023</td>\n",
       "      <td>July</td>\n",
       "      <td>5</td>\n",
       "      <td>17</td>\n",
       "      <td>35</td>\n",
       "    </tr>\n",
       "    <tr>\n",
       "      <th>3</th>\n",
       "      <td>2023-07-05 17:35:00</td>\n",
       "      <td>Ndeya Chou ❤🦋💍</td>\n",
       "      <td>Oui bonjour\\n</td>\n",
       "      <td>2023</td>\n",
       "      <td>July</td>\n",
       "      <td>5</td>\n",
       "      <td>17</td>\n",
       "      <td>35</td>\n",
       "    </tr>\n",
       "    <tr>\n",
       "      <th>4</th>\n",
       "      <td>2023-07-05 17:36:00</td>\n",
       "      <td>Thiara</td>\n",
       "      <td>Nakamou lépou diamou\\n</td>\n",
       "      <td>2023</td>\n",
       "      <td>July</td>\n",
       "      <td>5</td>\n",
       "      <td>17</td>\n",
       "      <td>36</td>\n",
       "    </tr>\n",
       "  </tbody>\n",
       "</table>\n",
       "</div>"
      ],
      "text/plain": [
       "                 date                user  \\\n",
       "0 2022-11-20 15:08:00  group_notification   \n",
       "1 2023-07-05 17:35:00  group_notification   \n",
       "2 2023-07-05 17:35:00              Thiara   \n",
       "3 2023-07-05 17:35:00      Ndeya Chou ❤🦋💍   \n",
       "4 2023-07-05 17:36:00              Thiara   \n",
       "\n",
       "                                             message  year     month  day  \\\n",
       "0  Les messages et les appels sont chiffrés de bo...  2022  November   20   \n",
       "1  Les messages et les appels sont chiffrés de bo...  2023      July    5   \n",
       "2                                          Bonjour\\n  2023      July    5   \n",
       "3                                      Oui bonjour\\n  2023      July    5   \n",
       "4                             Nakamou lépou diamou\\n  2023      July    5   \n",
       "\n",
       "   hour  minute  \n",
       "0    15       8  \n",
       "1    17      35  \n",
       "2    17      35  \n",
       "3    17      35  \n",
       "4    17      36  "
      ]
     },
     "execution_count": 50,
     "metadata": {},
     "output_type": "execute_result"
    }
   ],
   "source": [
    "df.head()"
   ]
  },
  {
   "cell_type": "code",
   "execution_count": null,
   "id": "a9429893",
   "metadata": {},
   "outputs": [],
   "source": []
  }
 ],
 "metadata": {
  "kernelspec": {
   "display_name": "Python 3 (ipykernel)",
   "language": "python",
   "name": "python3"
  },
  "language_info": {
   "codemirror_mode": {
    "name": "ipython",
    "version": 3
   },
   "file_extension": ".py",
   "mimetype": "text/x-python",
   "name": "python",
   "nbconvert_exporter": "python",
   "pygments_lexer": "ipython3",
   "version": "3.10.9"
  }
 },
 "nbformat": 4,
 "nbformat_minor": 5
}
